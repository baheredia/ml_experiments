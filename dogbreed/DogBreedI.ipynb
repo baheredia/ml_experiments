{
 "cells": [
  {
   "cell_type": "markdown",
   "metadata": {},
   "source": [
    "# Dog Breed I: Keras - VGG16 "
   ]
  },
  {
   "cell_type": "markdown",
   "metadata": {},
   "source": [
    "## Introduction"
   ]
  },
  {
   "cell_type": "markdown",
   "metadata": {},
   "source": [
    "I am following the fast.ai course, and this is my take on the Dog Breed competition based on that. In this an other notebooks I will try to get a good score on the Dog Breed competition (say top 50%).\n",
    "\n",
    "As a starting point, I will fine-tune the VGG16 model, for this, following the example of the dogs vs cat competition of the course. I already have saved the data as suggested. In the data folder I have train, validation and test folders.\n",
    "\n",
    "In this notebook I will:\n",
    "\n",
    "* Define the VGG-16 model using Keras, load the weights, and fine-tune it for this competition\n",
    "* Train the fine-tune version of the model\n",
    "* Produce a submission file for Kaggle\n",
    "\n",
    "But first let's us load some libraries"
   ]
  },
  {
   "cell_type": "code",
   "execution_count": 27,
   "metadata": {},
   "outputs": [
    {
     "name": "stdout",
     "output_type": "stream",
     "text": [
      "Found 360 images belonging to 120 classes.\n"
     ]
    }
   ],
   "source": [
    "%matplotlib inline\n",
    "\n",
    "import numpy as np\n",
    "import os\n",
    "import glob\n",
    "import matplotlib.pyplot as plt\n",
    "import pandas as pd\n",
    "\n",
    "from IPython.display import FileLink\n",
    "\n",
    "from importlib import reload\n",
    "import utils; reload(utils)\n",
    "from utils import *\n",
    "\n",
    "import keras.backend as K\n",
    "from keras.layers import Dense, Flatten, Lambda, BatchNormalization, Dropout\n",
    "from keras.layers import Conv2D, MaxPool2D\n",
    "from keras.models import Model, Sequential\n",
    "from keras.optimizers import Adam, RMSprop\n",
    "from keras.preprocessing import image"
   ]
  },
  {
   "cell_type": "markdown",
   "metadata": {},
   "source": [
    "And this is to avoid too many OOM:"
   ]
  },
  {
   "cell_type": "code",
   "execution_count": 11,
   "metadata": {
    "collapsed": true
   },
   "outputs": [],
   "source": [
    "limit_mem()"
   ]
  },
  {
   "cell_type": "markdown",
   "metadata": {},
   "source": [
    "## VGG-model"
   ]
  },
  {
   "cell_type": "markdown",
   "metadata": {},
   "source": [
    "This part is just the VGG model definition. I have downloaded the weights for this previously, which I found at\n",
    "https://github.com/fchollet/deep-learning-models/releases/download/v0.1/vgg16_weights_tf_dim_ordering_tf_kernels.h5"
   ]
  },
  {
   "cell_type": "code",
   "execution_count": 12,
   "metadata": {
    "collapsed": true
   },
   "outputs": [],
   "source": [
    "initial_weights_path = 'models/vgg16_weights_tf_dim_ordering_tf_kernels.h5'"
   ]
  },
  {
   "cell_type": "code",
   "execution_count": 13,
   "metadata": {
    "collapsed": true
   },
   "outputs": [],
   "source": [
    "vgg_mean = np.array([123.68, 116.779, 103.939], dtype=np.float32).reshape((1,1,3))\n",
    "def preproc(x):\n",
    "    x = x - vgg_mean\n",
    "    return x[:,:,:,::-1]\n",
    "\n",
    "def conv_block(model, layers, filters):\n",
    "    for i in range(layers):\n",
    "        model.add(Conv2D(filters, kernel_size=(3,3), padding='same', activation='relu'))\n",
    "    model.add(MaxPool2D(pool_size=(2,2), strides=(2,2)))\n",
    "\n",
    "def fc_block(model, do):\n",
    "    model.add(Dense(4096, activation='relu'))\n",
    "    model.add(Dropout(do))\n",
    "\n",
    "def vgg16(do):\n",
    "    model = Sequential()\n",
    "    \n",
    "    model.add(Lambda(preproc, input_shape=(224,224,3)))\n",
    "    \n",
    "    conv_block(model, 2, 64)\n",
    "    conv_block(model, 2, 128)\n",
    "    conv_block(model, 3, 256)\n",
    "    conv_block(model, 3, 512)\n",
    "    conv_block(model, 3, 512)\n",
    "    \n",
    "    model.add(Flatten())\n",
    "    fc_block(model, do)\n",
    "    fc_block(model, do)\n",
    "    model.add(Dense(1000, activation='softmax'))\n",
    "    \n",
    "    return model"
   ]
  },
  {
   "cell_type": "code",
   "execution_count": 14,
   "metadata": {
    "collapsed": true
   },
   "outputs": [],
   "source": [
    "model = vgg16(0)"
   ]
  },
  {
   "cell_type": "code",
   "execution_count": 6,
   "metadata": {
    "collapsed": true
   },
   "outputs": [],
   "source": [
    "model.load_weights(initial_weights_path)"
   ]
  },
  {
   "cell_type": "markdown",
   "metadata": {},
   "source": [
    "Now that we have the model with the weights loaded, we can fine tune it. Recall that for Dog Breed competition there are 120 categories so:"
   ]
  },
  {
   "cell_type": "code",
   "execution_count": 15,
   "metadata": {
    "collapsed": true
   },
   "outputs": [],
   "source": [
    "model.pop()\n",
    "for layer in model.layers: layer.trainable=False"
   ]
  },
  {
   "cell_type": "code",
   "execution_count": 16,
   "metadata": {
    "collapsed": true
   },
   "outputs": [],
   "source": [
    "model.add(Dense(120, activation='softmax'))"
   ]
  },
  {
   "cell_type": "markdown",
   "metadata": {},
   "source": [
    "## Train the model"
   ]
  },
  {
   "cell_type": "markdown",
   "metadata": {},
   "source": [
    "Now, we prepare the batches and train the model. In the first run, to verify that everything works, I will use the sample path, then I will subtitute it with the real path:"
   ]
  },
  {
   "cell_type": "code",
   "execution_count": 17,
   "metadata": {
    "collapsed": true
   },
   "outputs": [],
   "source": [
    "#path = 'data/sample/'\n",
    "path = 'data/'"
   ]
  },
  {
   "cell_type": "code",
   "execution_count": 18,
   "metadata": {
    "collapsed": true
   },
   "outputs": [],
   "source": [
    "batch_size = 64"
   ]
  },
  {
   "cell_type": "code",
   "execution_count": 19,
   "metadata": {},
   "outputs": [
    {
     "name": "stdout",
     "output_type": "stream",
     "text": [
      "Found 9254 images belonging to 120 classes.\n",
      "Found 968 images belonging to 120 classes.\n"
     ]
    }
   ],
   "source": [
    "train_batch, steps_per_epoch = get_batch(path + 'train', batch_size=batch_size, shuffle=True)\n",
    "valid_batch, validation_steps = get_batch(path + 'valid', batch_size=batch_size)"
   ]
  },
  {
   "cell_type": "code",
   "execution_count": 20,
   "metadata": {
    "collapsed": true
   },
   "outputs": [],
   "source": [
    "model.compile(Adam(0.0001), loss='categorical_crossentropy', metrics=['accuracy'])"
   ]
  },
  {
   "cell_type": "code",
   "execution_count": 23,
   "metadata": {},
   "outputs": [
    {
     "name": "stdout",
     "output_type": "stream",
     "text": [
      "Epoch 1/1\n",
      "145/144 [==============================] - 48s 334ms/step - loss: 3.0052 - acc: 0.3219 - val_loss: 1.5471 - val_acc: 0.5661\n"
     ]
    },
    {
     "data": {
      "text/plain": [
       "<keras.callbacks.History at 0x7f738869d860>"
      ]
     },
     "execution_count": 23,
     "metadata": {},
     "output_type": "execute_result"
    }
   ],
   "source": [
    "model.fit_generator(train_batch,steps_per_epoch, epochs=1,\n",
    "                   validation_data=valid_batch, validation_steps=validation_steps)"
   ]
  },
  {
   "cell_type": "code",
   "execution_count": 17,
   "metadata": {},
   "outputs": [
    {
     "name": "stdout",
     "output_type": "stream",
     "text": [
      "Epoch 1/4\n",
      "145/144 [==============================] - 46s 316ms/step - loss: 1.1649 - acc: 0.6643 - val_loss: 1.1470 - val_acc: 0.6622\n",
      "Epoch 2/4\n",
      "145/144 [==============================] - 46s 316ms/step - loss: 0.8121 - acc: 0.7593 - val_loss: 1.0115 - val_acc: 0.6880\n",
      "Epoch 3/4\n",
      "145/144 [==============================] - 46s 320ms/step - loss: 0.6223 - acc: 0.8187 - val_loss: 0.9510 - val_acc: 0.7128\n",
      "Epoch 4/4\n",
      "145/144 [==============================] - 46s 315ms/step - loss: 0.4944 - acc: 0.8613 - val_loss: 0.9150 - val_acc: 0.7149\n"
     ]
    },
    {
     "data": {
      "text/plain": [
       "<keras.callbacks.History at 0x7fb334629e10>"
      ]
     },
     "execution_count": 17,
     "metadata": {},
     "output_type": "execute_result"
    }
   ],
   "source": [
    "model.fit_generator(train_batch,steps_per_epoch, epochs=4,\n",
    "                   validation_data=valid_batch, validation_steps=validation_steps)"
   ]
  },
  {
   "cell_type": "code",
   "execution_count": 24,
   "metadata": {
    "collapsed": true
   },
   "outputs": [],
   "source": [
    "model.save_weights('models/vgg16_fine_tuned_1.h5')"
   ]
  },
  {
   "cell_type": "markdown",
   "metadata": {},
   "source": [
    "Right now it is overfitting but still improving. I am going to use this as my starting point."
   ]
  },
  {
   "cell_type": "markdown",
   "metadata": {},
   "source": [
    "## Create a submission file"
   ]
  },
  {
   "cell_type": "markdown",
   "metadata": {},
   "source": [
    "Now, to obtain the predictions is easy, but they are not real probabilities of each category, since the model, as far as I understand, tends to be overconfident. Which means we have to adjust the result for that. I designed the following function which tries to accomplish this:"
   ]
  },
  {
   "cell_type": "code",
   "execution_count": 21,
   "metadata": {
    "collapsed": true
   },
   "outputs": [],
   "source": [
    "model.load_weights('models/vgg16_fine_tuned_1.h5')"
   ]
  },
  {
   "cell_type": "code",
   "execution_count": 22,
   "metadata": {
    "collapsed": true
   },
   "outputs": [],
   "source": [
    "test_path = path + 'test/'"
   ]
  },
  {
   "cell_type": "code",
   "execution_count": 28,
   "metadata": {},
   "outputs": [
    {
     "name": "stdout",
     "output_type": "stream",
     "text": [
      "Found 10357 images belonging to 1 classes.\n"
     ]
    }
   ],
   "source": [
    "test_df = prepare_submission('submissions/new_submissions_1bisbis.csv', model, top_sum=0.98)"
   ]
  },
  {
   "cell_type": "code",
   "execution_count": 29,
   "metadata": {},
   "outputs": [
    {
     "data": {
      "text/html": [
       "<div>\n",
       "<style scoped>\n",
       "    .dataframe tbody tr th:only-of-type {\n",
       "        vertical-align: middle;\n",
       "    }\n",
       "\n",
       "    .dataframe tbody tr th {\n",
       "        vertical-align: top;\n",
       "    }\n",
       "\n",
       "    .dataframe thead th {\n",
       "        text-align: right;\n",
       "    }\n",
       "</style>\n",
       "<table border=\"1\" class=\"dataframe\">\n",
       "  <thead>\n",
       "    <tr style=\"text-align: right;\">\n",
       "      <th></th>\n",
       "      <th>affenpinscher</th>\n",
       "      <th>afghan_hound</th>\n",
       "      <th>african_hunting_dog</th>\n",
       "      <th>airedale</th>\n",
       "      <th>american_staffordshire_terrier</th>\n",
       "      <th>appenzeller</th>\n",
       "      <th>australian_terrier</th>\n",
       "      <th>basenji</th>\n",
       "      <th>basset</th>\n",
       "      <th>beagle</th>\n",
       "      <th>...</th>\n",
       "      <th>toy_poodle</th>\n",
       "      <th>toy_terrier</th>\n",
       "      <th>vizsla</th>\n",
       "      <th>walker_hound</th>\n",
       "      <th>weimaraner</th>\n",
       "      <th>welsh_springer_spaniel</th>\n",
       "      <th>west_highland_white_terrier</th>\n",
       "      <th>whippet</th>\n",
       "      <th>wire-haired_fox_terrier</th>\n",
       "      <th>yorkshire_terrier</th>\n",
       "    </tr>\n",
       "    <tr>\n",
       "      <th>id</th>\n",
       "      <th></th>\n",
       "      <th></th>\n",
       "      <th></th>\n",
       "      <th></th>\n",
       "      <th></th>\n",
       "      <th></th>\n",
       "      <th></th>\n",
       "      <th></th>\n",
       "      <th></th>\n",
       "      <th></th>\n",
       "      <th></th>\n",
       "      <th></th>\n",
       "      <th></th>\n",
       "      <th></th>\n",
       "      <th></th>\n",
       "      <th></th>\n",
       "      <th></th>\n",
       "      <th></th>\n",
       "      <th></th>\n",
       "      <th></th>\n",
       "      <th></th>\n",
       "    </tr>\n",
       "  </thead>\n",
       "  <tbody>\n",
       "    <tr>\n",
       "      <th>000621fb3cbb32d8935728e48679680e</th>\n",
       "      <td>0.000172</td>\n",
       "      <td>0.000172</td>\n",
       "      <td>0.000172</td>\n",
       "      <td>0.000172</td>\n",
       "      <td>0.000172</td>\n",
       "      <td>0.000172</td>\n",
       "      <td>0.000172</td>\n",
       "      <td>0.000172</td>\n",
       "      <td>0.000172</td>\n",
       "      <td>0.000172</td>\n",
       "      <td>...</td>\n",
       "      <td>0.000172</td>\n",
       "      <td>0.000172</td>\n",
       "      <td>0.000172</td>\n",
       "      <td>0.000172</td>\n",
       "      <td>0.000172</td>\n",
       "      <td>0.000172</td>\n",
       "      <td>0.000172</td>\n",
       "      <td>0.000172</td>\n",
       "      <td>0.000172</td>\n",
       "      <td>0.000172</td>\n",
       "    </tr>\n",
       "    <tr>\n",
       "      <th>00102ee9d8eb90812350685311fe5890</th>\n",
       "      <td>0.000172</td>\n",
       "      <td>0.000172</td>\n",
       "      <td>0.000172</td>\n",
       "      <td>0.000172</td>\n",
       "      <td>0.000172</td>\n",
       "      <td>0.000172</td>\n",
       "      <td>0.000172</td>\n",
       "      <td>0.000172</td>\n",
       "      <td>0.000172</td>\n",
       "      <td>0.000172</td>\n",
       "      <td>...</td>\n",
       "      <td>0.000172</td>\n",
       "      <td>0.000172</td>\n",
       "      <td>0.000172</td>\n",
       "      <td>0.000172</td>\n",
       "      <td>0.000172</td>\n",
       "      <td>0.000172</td>\n",
       "      <td>0.000172</td>\n",
       "      <td>0.000172</td>\n",
       "      <td>0.000172</td>\n",
       "      <td>0.000172</td>\n",
       "    </tr>\n",
       "    <tr>\n",
       "      <th>0012a730dfa437f5f3613fb75efcd4ce</th>\n",
       "      <td>0.000180</td>\n",
       "      <td>0.000180</td>\n",
       "      <td>0.000180</td>\n",
       "      <td>0.000180</td>\n",
       "      <td>0.000180</td>\n",
       "      <td>0.000180</td>\n",
       "      <td>0.000180</td>\n",
       "      <td>0.000180</td>\n",
       "      <td>0.000180</td>\n",
       "      <td>0.000180</td>\n",
       "      <td>...</td>\n",
       "      <td>0.000180</td>\n",
       "      <td>0.000180</td>\n",
       "      <td>0.000180</td>\n",
       "      <td>0.000180</td>\n",
       "      <td>0.000180</td>\n",
       "      <td>0.030007</td>\n",
       "      <td>0.000180</td>\n",
       "      <td>0.000180</td>\n",
       "      <td>0.000180</td>\n",
       "      <td>0.000180</td>\n",
       "    </tr>\n",
       "    <tr>\n",
       "      <th>001510bc8570bbeee98c8d80c8a95ec1</th>\n",
       "      <td>0.000180</td>\n",
       "      <td>0.030497</td>\n",
       "      <td>0.000180</td>\n",
       "      <td>0.000180</td>\n",
       "      <td>0.000180</td>\n",
       "      <td>0.000180</td>\n",
       "      <td>0.000180</td>\n",
       "      <td>0.000180</td>\n",
       "      <td>0.000180</td>\n",
       "      <td>0.000180</td>\n",
       "      <td>...</td>\n",
       "      <td>0.000180</td>\n",
       "      <td>0.000180</td>\n",
       "      <td>0.000180</td>\n",
       "      <td>0.000180</td>\n",
       "      <td>0.000180</td>\n",
       "      <td>0.000180</td>\n",
       "      <td>0.000180</td>\n",
       "      <td>0.000180</td>\n",
       "      <td>0.000180</td>\n",
       "      <td>0.000180</td>\n",
       "    </tr>\n",
       "    <tr>\n",
       "      <th>001a5f3114548acdefa3d4da05474c2e</th>\n",
       "      <td>0.048518</td>\n",
       "      <td>0.024085</td>\n",
       "      <td>0.000180</td>\n",
       "      <td>0.000180</td>\n",
       "      <td>0.000180</td>\n",
       "      <td>0.000180</td>\n",
       "      <td>0.000180</td>\n",
       "      <td>0.000180</td>\n",
       "      <td>0.000180</td>\n",
       "      <td>0.000180</td>\n",
       "      <td>...</td>\n",
       "      <td>0.000180</td>\n",
       "      <td>0.000180</td>\n",
       "      <td>0.000180</td>\n",
       "      <td>0.000180</td>\n",
       "      <td>0.000180</td>\n",
       "      <td>0.000180</td>\n",
       "      <td>0.000180</td>\n",
       "      <td>0.000180</td>\n",
       "      <td>0.000180</td>\n",
       "      <td>0.000180</td>\n",
       "    </tr>\n",
       "  </tbody>\n",
       "</table>\n",
       "<p>5 rows × 120 columns</p>\n",
       "</div>"
      ],
      "text/plain": [
       "                                  affenpinscher  afghan_hound  \\\n",
       "id                                                              \n",
       "000621fb3cbb32d8935728e48679680e       0.000172      0.000172   \n",
       "00102ee9d8eb90812350685311fe5890       0.000172      0.000172   \n",
       "0012a730dfa437f5f3613fb75efcd4ce       0.000180      0.000180   \n",
       "001510bc8570bbeee98c8d80c8a95ec1       0.000180      0.030497   \n",
       "001a5f3114548acdefa3d4da05474c2e       0.048518      0.024085   \n",
       "\n",
       "                                  african_hunting_dog  airedale  \\\n",
       "id                                                                \n",
       "000621fb3cbb32d8935728e48679680e             0.000172  0.000172   \n",
       "00102ee9d8eb90812350685311fe5890             0.000172  0.000172   \n",
       "0012a730dfa437f5f3613fb75efcd4ce             0.000180  0.000180   \n",
       "001510bc8570bbeee98c8d80c8a95ec1             0.000180  0.000180   \n",
       "001a5f3114548acdefa3d4da05474c2e             0.000180  0.000180   \n",
       "\n",
       "                                  american_staffordshire_terrier  appenzeller  \\\n",
       "id                                                                              \n",
       "000621fb3cbb32d8935728e48679680e                        0.000172     0.000172   \n",
       "00102ee9d8eb90812350685311fe5890                        0.000172     0.000172   \n",
       "0012a730dfa437f5f3613fb75efcd4ce                        0.000180     0.000180   \n",
       "001510bc8570bbeee98c8d80c8a95ec1                        0.000180     0.000180   \n",
       "001a5f3114548acdefa3d4da05474c2e                        0.000180     0.000180   \n",
       "\n",
       "                                  australian_terrier   basenji    basset  \\\n",
       "id                                                                         \n",
       "000621fb3cbb32d8935728e48679680e            0.000172  0.000172  0.000172   \n",
       "00102ee9d8eb90812350685311fe5890            0.000172  0.000172  0.000172   \n",
       "0012a730dfa437f5f3613fb75efcd4ce            0.000180  0.000180  0.000180   \n",
       "001510bc8570bbeee98c8d80c8a95ec1            0.000180  0.000180  0.000180   \n",
       "001a5f3114548acdefa3d4da05474c2e            0.000180  0.000180  0.000180   \n",
       "\n",
       "                                    beagle        ...          toy_poodle  \\\n",
       "id                                                ...                       \n",
       "000621fb3cbb32d8935728e48679680e  0.000172        ...            0.000172   \n",
       "00102ee9d8eb90812350685311fe5890  0.000172        ...            0.000172   \n",
       "0012a730dfa437f5f3613fb75efcd4ce  0.000180        ...            0.000180   \n",
       "001510bc8570bbeee98c8d80c8a95ec1  0.000180        ...            0.000180   \n",
       "001a5f3114548acdefa3d4da05474c2e  0.000180        ...            0.000180   \n",
       "\n",
       "                                  toy_terrier    vizsla  walker_hound  \\\n",
       "id                                                                      \n",
       "000621fb3cbb32d8935728e48679680e     0.000172  0.000172      0.000172   \n",
       "00102ee9d8eb90812350685311fe5890     0.000172  0.000172      0.000172   \n",
       "0012a730dfa437f5f3613fb75efcd4ce     0.000180  0.000180      0.000180   \n",
       "001510bc8570bbeee98c8d80c8a95ec1     0.000180  0.000180      0.000180   \n",
       "001a5f3114548acdefa3d4da05474c2e     0.000180  0.000180      0.000180   \n",
       "\n",
       "                                  weimaraner  welsh_springer_spaniel  \\\n",
       "id                                                                     \n",
       "000621fb3cbb32d8935728e48679680e    0.000172                0.000172   \n",
       "00102ee9d8eb90812350685311fe5890    0.000172                0.000172   \n",
       "0012a730dfa437f5f3613fb75efcd4ce    0.000180                0.030007   \n",
       "001510bc8570bbeee98c8d80c8a95ec1    0.000180                0.000180   \n",
       "001a5f3114548acdefa3d4da05474c2e    0.000180                0.000180   \n",
       "\n",
       "                                  west_highland_white_terrier   whippet  \\\n",
       "id                                                                        \n",
       "000621fb3cbb32d8935728e48679680e                     0.000172  0.000172   \n",
       "00102ee9d8eb90812350685311fe5890                     0.000172  0.000172   \n",
       "0012a730dfa437f5f3613fb75efcd4ce                     0.000180  0.000180   \n",
       "001510bc8570bbeee98c8d80c8a95ec1                     0.000180  0.000180   \n",
       "001a5f3114548acdefa3d4da05474c2e                     0.000180  0.000180   \n",
       "\n",
       "                                  wire-haired_fox_terrier  yorkshire_terrier  \n",
       "id                                                                            \n",
       "000621fb3cbb32d8935728e48679680e                 0.000172           0.000172  \n",
       "00102ee9d8eb90812350685311fe5890                 0.000172           0.000172  \n",
       "0012a730dfa437f5f3613fb75efcd4ce                 0.000180           0.000180  \n",
       "001510bc8570bbeee98c8d80c8a95ec1                 0.000180           0.000180  \n",
       "001a5f3114548acdefa3d4da05474c2e                 0.000180           0.000180  \n",
       "\n",
       "[5 rows x 120 columns]"
      ]
     },
     "execution_count": 29,
     "metadata": {},
     "output_type": "execute_result"
    }
   ],
   "source": [
    "test_df.head()"
   ]
  },
  {
   "cell_type": "code",
   "execution_count": 30,
   "metadata": {},
   "outputs": [
    {
     "data": {
      "text/html": [
       "<a href='submissions/new_submissions_1bisbis.csv' target='_blank'>submissions/new_submissions_1bisbis.csv</a><br>"
      ],
      "text/plain": [
       "/media/benjamin/Baul/Proyectos/ml_experiments/dogbreed/submissions/new_submissions_1bisbis.csv"
      ]
     },
     "execution_count": 30,
     "metadata": {},
     "output_type": "execute_result"
    }
   ],
   "source": [
    "FileLink('submissions/new_submissions_1bisbis.csv')"
   ]
  },
  {
   "cell_type": "markdown",
   "metadata": {},
   "source": [
    "This got a score of 1.13167"
   ]
  },
  {
   "cell_type": "code",
   "execution_count": 31,
   "metadata": {},
   "outputs": [
    {
     "name": "stdout",
     "output_type": "stream",
     "text": [
      "Found 10357 images belonging to 1 classes.\n"
     ]
    },
    {
     "name": "stderr",
     "output_type": "stream",
     "text": [
      "/media/benjamin/Baul/Proyectos/ml_experiments/dogbreed/utils.py:56: RuntimeWarning: divide by zero encountered in true_divide\n",
      "  adj_pred[adj_pred>=low_bar] = (top_sum/old_top_sum)*adj_pred[adj_pred>=low_bar]\n"
     ]
    }
   ],
   "source": [
    "test_df = prepare_submission('submissions/new_submissions_1bis2.csv', model, top_sum=0.8)"
   ]
  },
  {
   "cell_type": "code",
   "execution_count": 35,
   "metadata": {},
   "outputs": [
    {
     "data": {
      "text/html": [
       "<div>\n",
       "<style scoped>\n",
       "    .dataframe tbody tr th:only-of-type {\n",
       "        vertical-align: middle;\n",
       "    }\n",
       "\n",
       "    .dataframe tbody tr th {\n",
       "        vertical-align: top;\n",
       "    }\n",
       "\n",
       "    .dataframe thead th {\n",
       "        text-align: right;\n",
       "    }\n",
       "</style>\n",
       "<table border=\"1\" class=\"dataframe\">\n",
       "  <thead>\n",
       "    <tr style=\"text-align: right;\">\n",
       "      <th></th>\n",
       "      <th>affenpinscher</th>\n",
       "      <th>afghan_hound</th>\n",
       "      <th>african_hunting_dog</th>\n",
       "      <th>airedale</th>\n",
       "      <th>american_staffordshire_terrier</th>\n",
       "      <th>appenzeller</th>\n",
       "      <th>australian_terrier</th>\n",
       "      <th>basenji</th>\n",
       "      <th>basset</th>\n",
       "      <th>beagle</th>\n",
       "      <th>...</th>\n",
       "      <th>toy_poodle</th>\n",
       "      <th>toy_terrier</th>\n",
       "      <th>vizsla</th>\n",
       "      <th>walker_hound</th>\n",
       "      <th>weimaraner</th>\n",
       "      <th>welsh_springer_spaniel</th>\n",
       "      <th>west_highland_white_terrier</th>\n",
       "      <th>whippet</th>\n",
       "      <th>wire-haired_fox_terrier</th>\n",
       "      <th>yorkshire_terrier</th>\n",
       "    </tr>\n",
       "    <tr>\n",
       "      <th>id</th>\n",
       "      <th></th>\n",
       "      <th></th>\n",
       "      <th></th>\n",
       "      <th></th>\n",
       "      <th></th>\n",
       "      <th></th>\n",
       "      <th></th>\n",
       "      <th></th>\n",
       "      <th></th>\n",
       "      <th></th>\n",
       "      <th></th>\n",
       "      <th></th>\n",
       "      <th></th>\n",
       "      <th></th>\n",
       "      <th></th>\n",
       "      <th></th>\n",
       "      <th></th>\n",
       "      <th></th>\n",
       "      <th></th>\n",
       "      <th></th>\n",
       "      <th></th>\n",
       "    </tr>\n",
       "  </thead>\n",
       "  <tbody>\n",
       "    <tr>\n",
       "      <th>000621fb3cbb32d8935728e48679680e</th>\n",
       "      <td>0.001681</td>\n",
       "      <td>0.001681</td>\n",
       "      <td>0.001681</td>\n",
       "      <td>0.001681</td>\n",
       "      <td>0.001681</td>\n",
       "      <td>0.001681</td>\n",
       "      <td>0.001681</td>\n",
       "      <td>0.001681</td>\n",
       "      <td>0.001681</td>\n",
       "      <td>0.001681</td>\n",
       "      <td>...</td>\n",
       "      <td>0.001681</td>\n",
       "      <td>0.001681</td>\n",
       "      <td>0.001681</td>\n",
       "      <td>0.001681</td>\n",
       "      <td>0.001681</td>\n",
       "      <td>0.001681</td>\n",
       "      <td>0.001681</td>\n",
       "      <td>0.001681</td>\n",
       "      <td>0.001681</td>\n",
       "      <td>0.001681</td>\n",
       "    </tr>\n",
       "    <tr>\n",
       "      <th>00102ee9d8eb90812350685311fe5890</th>\n",
       "      <td>0.001681</td>\n",
       "      <td>0.001681</td>\n",
       "      <td>0.001681</td>\n",
       "      <td>0.001681</td>\n",
       "      <td>0.001681</td>\n",
       "      <td>0.001681</td>\n",
       "      <td>0.001681</td>\n",
       "      <td>0.001681</td>\n",
       "      <td>0.001681</td>\n",
       "      <td>0.001681</td>\n",
       "      <td>...</td>\n",
       "      <td>0.001681</td>\n",
       "      <td>0.001681</td>\n",
       "      <td>0.001681</td>\n",
       "      <td>0.001681</td>\n",
       "      <td>0.001681</td>\n",
       "      <td>0.001681</td>\n",
       "      <td>0.001681</td>\n",
       "      <td>0.001681</td>\n",
       "      <td>0.001681</td>\n",
       "      <td>0.001681</td>\n",
       "    </tr>\n",
       "    <tr>\n",
       "      <th>0012a730dfa437f5f3613fb75efcd4ce</th>\n",
       "      <td>0.001681</td>\n",
       "      <td>0.001681</td>\n",
       "      <td>0.001681</td>\n",
       "      <td>0.001681</td>\n",
       "      <td>0.001681</td>\n",
       "      <td>0.001681</td>\n",
       "      <td>0.001681</td>\n",
       "      <td>0.001681</td>\n",
       "      <td>0.001681</td>\n",
       "      <td>0.001681</td>\n",
       "      <td>...</td>\n",
       "      <td>0.001681</td>\n",
       "      <td>0.001681</td>\n",
       "      <td>0.001681</td>\n",
       "      <td>0.001681</td>\n",
       "      <td>0.001681</td>\n",
       "      <td>0.001681</td>\n",
       "      <td>0.001681</td>\n",
       "      <td>0.001681</td>\n",
       "      <td>0.001681</td>\n",
       "      <td>0.001681</td>\n",
       "    </tr>\n",
       "    <tr>\n",
       "      <th>001510bc8570bbeee98c8d80c8a95ec1</th>\n",
       "      <td>0.001681</td>\n",
       "      <td>0.001681</td>\n",
       "      <td>0.001681</td>\n",
       "      <td>0.001681</td>\n",
       "      <td>0.001681</td>\n",
       "      <td>0.001681</td>\n",
       "      <td>0.001681</td>\n",
       "      <td>0.001681</td>\n",
       "      <td>0.001681</td>\n",
       "      <td>0.001681</td>\n",
       "      <td>...</td>\n",
       "      <td>0.001681</td>\n",
       "      <td>0.001681</td>\n",
       "      <td>0.001681</td>\n",
       "      <td>0.001681</td>\n",
       "      <td>0.001681</td>\n",
       "      <td>0.001681</td>\n",
       "      <td>0.001681</td>\n",
       "      <td>0.001681</td>\n",
       "      <td>0.001681</td>\n",
       "      <td>0.001681</td>\n",
       "    </tr>\n",
       "    <tr>\n",
       "      <th>001a5f3114548acdefa3d4da05474c2e</th>\n",
       "      <td>0.001681</td>\n",
       "      <td>0.001681</td>\n",
       "      <td>0.001681</td>\n",
       "      <td>0.001681</td>\n",
       "      <td>0.001681</td>\n",
       "      <td>0.001681</td>\n",
       "      <td>0.001681</td>\n",
       "      <td>0.001681</td>\n",
       "      <td>0.001681</td>\n",
       "      <td>0.001681</td>\n",
       "      <td>...</td>\n",
       "      <td>0.001681</td>\n",
       "      <td>0.001681</td>\n",
       "      <td>0.001681</td>\n",
       "      <td>0.001681</td>\n",
       "      <td>0.001681</td>\n",
       "      <td>0.001681</td>\n",
       "      <td>0.001681</td>\n",
       "      <td>0.001681</td>\n",
       "      <td>0.001681</td>\n",
       "      <td>0.001681</td>\n",
       "    </tr>\n",
       "  </tbody>\n",
       "</table>\n",
       "<p>5 rows × 120 columns</p>\n",
       "</div>"
      ],
      "text/plain": [
       "                                  affenpinscher  afghan_hound  \\\n",
       "id                                                              \n",
       "000621fb3cbb32d8935728e48679680e       0.001681      0.001681   \n",
       "00102ee9d8eb90812350685311fe5890       0.001681      0.001681   \n",
       "0012a730dfa437f5f3613fb75efcd4ce       0.001681      0.001681   \n",
       "001510bc8570bbeee98c8d80c8a95ec1       0.001681      0.001681   \n",
       "001a5f3114548acdefa3d4da05474c2e       0.001681      0.001681   \n",
       "\n",
       "                                  african_hunting_dog  airedale  \\\n",
       "id                                                                \n",
       "000621fb3cbb32d8935728e48679680e             0.001681  0.001681   \n",
       "00102ee9d8eb90812350685311fe5890             0.001681  0.001681   \n",
       "0012a730dfa437f5f3613fb75efcd4ce             0.001681  0.001681   \n",
       "001510bc8570bbeee98c8d80c8a95ec1             0.001681  0.001681   \n",
       "001a5f3114548acdefa3d4da05474c2e             0.001681  0.001681   \n",
       "\n",
       "                                  american_staffordshire_terrier  appenzeller  \\\n",
       "id                                                                              \n",
       "000621fb3cbb32d8935728e48679680e                        0.001681     0.001681   \n",
       "00102ee9d8eb90812350685311fe5890                        0.001681     0.001681   \n",
       "0012a730dfa437f5f3613fb75efcd4ce                        0.001681     0.001681   \n",
       "001510bc8570bbeee98c8d80c8a95ec1                        0.001681     0.001681   \n",
       "001a5f3114548acdefa3d4da05474c2e                        0.001681     0.001681   \n",
       "\n",
       "                                  australian_terrier   basenji    basset  \\\n",
       "id                                                                         \n",
       "000621fb3cbb32d8935728e48679680e            0.001681  0.001681  0.001681   \n",
       "00102ee9d8eb90812350685311fe5890            0.001681  0.001681  0.001681   \n",
       "0012a730dfa437f5f3613fb75efcd4ce            0.001681  0.001681  0.001681   \n",
       "001510bc8570bbeee98c8d80c8a95ec1            0.001681  0.001681  0.001681   \n",
       "001a5f3114548acdefa3d4da05474c2e            0.001681  0.001681  0.001681   \n",
       "\n",
       "                                    beagle        ...          toy_poodle  \\\n",
       "id                                                ...                       \n",
       "000621fb3cbb32d8935728e48679680e  0.001681        ...            0.001681   \n",
       "00102ee9d8eb90812350685311fe5890  0.001681        ...            0.001681   \n",
       "0012a730dfa437f5f3613fb75efcd4ce  0.001681        ...            0.001681   \n",
       "001510bc8570bbeee98c8d80c8a95ec1  0.001681        ...            0.001681   \n",
       "001a5f3114548acdefa3d4da05474c2e  0.001681        ...            0.001681   \n",
       "\n",
       "                                  toy_terrier    vizsla  walker_hound  \\\n",
       "id                                                                      \n",
       "000621fb3cbb32d8935728e48679680e     0.001681  0.001681      0.001681   \n",
       "00102ee9d8eb90812350685311fe5890     0.001681  0.001681      0.001681   \n",
       "0012a730dfa437f5f3613fb75efcd4ce     0.001681  0.001681      0.001681   \n",
       "001510bc8570bbeee98c8d80c8a95ec1     0.001681  0.001681      0.001681   \n",
       "001a5f3114548acdefa3d4da05474c2e     0.001681  0.001681      0.001681   \n",
       "\n",
       "                                  weimaraner  welsh_springer_spaniel  \\\n",
       "id                                                                     \n",
       "000621fb3cbb32d8935728e48679680e    0.001681                0.001681   \n",
       "00102ee9d8eb90812350685311fe5890    0.001681                0.001681   \n",
       "0012a730dfa437f5f3613fb75efcd4ce    0.001681                0.001681   \n",
       "001510bc8570bbeee98c8d80c8a95ec1    0.001681                0.001681   \n",
       "001a5f3114548acdefa3d4da05474c2e    0.001681                0.001681   \n",
       "\n",
       "                                  west_highland_white_terrier   whippet  \\\n",
       "id                                                                        \n",
       "000621fb3cbb32d8935728e48679680e                     0.001681  0.001681   \n",
       "00102ee9d8eb90812350685311fe5890                     0.001681  0.001681   \n",
       "0012a730dfa437f5f3613fb75efcd4ce                     0.001681  0.001681   \n",
       "001510bc8570bbeee98c8d80c8a95ec1                     0.001681  0.001681   \n",
       "001a5f3114548acdefa3d4da05474c2e                     0.001681  0.001681   \n",
       "\n",
       "                                  wire-haired_fox_terrier  yorkshire_terrier  \n",
       "id                                                                            \n",
       "000621fb3cbb32d8935728e48679680e                 0.001681           0.001681  \n",
       "00102ee9d8eb90812350685311fe5890                 0.001681           0.001681  \n",
       "0012a730dfa437f5f3613fb75efcd4ce                 0.001681           0.001681  \n",
       "001510bc8570bbeee98c8d80c8a95ec1                 0.001681           0.001681  \n",
       "001a5f3114548acdefa3d4da05474c2e                 0.001681           0.001681  \n",
       "\n",
       "[5 rows x 120 columns]"
      ]
     },
     "execution_count": 35,
     "metadata": {},
     "output_type": "execute_result"
    }
   ],
   "source": [
    "test_df.head()"
   ]
  },
  {
   "cell_type": "code",
   "execution_count": 36,
   "metadata": {},
   "outputs": [
    {
     "data": {
      "text/html": [
       "<a href='submissions/new_submissions_1bis2.csv' target='_blank'>submissions/new_submissions_1bis2.csv</a><br>"
      ],
      "text/plain": [
       "/media/benjamin/Baul/Proyectos/ml_experiments/dogbreed/submissions/new_submissions_1bis2.csv"
      ]
     },
     "execution_count": 36,
     "metadata": {},
     "output_type": "execute_result"
    }
   ],
   "source": [
    "FileLink('submissions/new_submissions_1bis2.csv')"
   ]
  }
 ],
 "metadata": {
  "kernelspec": {
   "display_name": "Python [conda env:tensorflow]",
   "language": "python",
   "name": "conda-env-tensorflow-py"
  },
  "language_info": {
   "codemirror_mode": {
    "name": "ipython",
    "version": 3
   },
   "file_extension": ".py",
   "mimetype": "text/x-python",
   "name": "python",
   "nbconvert_exporter": "python",
   "pygments_lexer": "ipython3",
   "version": "3.6.3"
  },
  "toc": {
   "nav_menu": {},
   "number_sections": true,
   "sideBar": true,
   "skip_h1_title": true,
   "toc_cell": false,
   "toc_position": {},
   "toc_section_display": "block",
   "toc_window_display": false
  }
 },
 "nbformat": 4,
 "nbformat_minor": 2
}
