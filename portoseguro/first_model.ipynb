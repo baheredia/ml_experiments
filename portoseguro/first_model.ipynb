{
 "cells": [
  {
   "cell_type": "markdown",
   "metadata": {},
   "source": [
    "# A first model to get started"
   ]
  },
  {
   "cell_type": "markdown",
   "metadata": {},
   "source": [
    "This is a baseline model."
   ]
  },
  {
   "cell_type": "code",
   "execution_count": 1,
   "metadata": {},
   "outputs": [
    {
     "name": "stderr",
     "output_type": "stream",
     "text": [
      "Using TensorFlow backend.\n",
      "/home/benjamin/anaconda3/envs/tensorflow/lib/python3.6/importlib/_bootstrap.py:219: RuntimeWarning: compiletime version 3.5 of module 'tensorflow.python.framework.fast_tensor_util' does not match runtime version 3.6\n",
      "  return f(*args, **kwds)\n"
     ]
    }
   ],
   "source": [
    "%matplotlib inline\n",
    "import matplotlib.pyplot as plt\n",
    "\n",
    "import os\n",
    "\n",
    "import pandas as pd\n",
    "import numpy as np\n",
    "from gini import *\n",
    "\n",
    "from importlib import reload\n",
    "import data_prep; reload(data_prep)\n",
    "from data_prep import *\n",
    "\n",
    "import utils; reload(utils)\n",
    "from utils import *\n",
    "\n",
    "import keras.backend as K\n",
    "\n",
    "from keras.models import Sequential, Model\n",
    "from keras.layers import Dense, Flatten, Embedding, BatchNormalization, Input, Dropout\n",
    "from keras.optimizers import Adam, RMSprop\n",
    "\n",
    "from IPython.display import FileLink"
   ]
  },
  {
   "cell_type": "code",
   "execution_count": 2,
   "metadata": {
    "collapsed": true
   },
   "outputs": [],
   "source": [
    "limit_mem()"
   ]
  },
  {
   "cell_type": "code",
   "execution_count": 3,
   "metadata": {
    "collapsed": true
   },
   "outputs": [],
   "source": [
    "train_ft, train_targets, valid_ft, valid_targets = load_training_data()"
   ]
  },
  {
   "cell_type": "code",
   "execution_count": 4,
   "metadata": {},
   "outputs": [
    {
     "data": {
      "text/plain": [
       "(476493, 227)"
      ]
     },
     "execution_count": 4,
     "metadata": {},
     "output_type": "execute_result"
    }
   ],
   "source": [
    "train_ft.shape"
   ]
  },
  {
   "cell_type": "code",
   "execution_count": 5,
   "metadata": {
    "collapsed": true
   },
   "outputs": [],
   "source": [
    "model = Sequential([BatchNormalization(input_shape=(train_ft.shape[1],))\n",
    "                       ,Dense(256, activation='relu')\n",
    "                       ,BatchNormalization()\n",
    "                          ,Dropout(0.5)\n",
    "                       ,Dense(256, activation='relu')\n",
    "                       ,BatchNormalization()\n",
    "                          ,Dropout(0.5)\n",
    "                        ,Dense(1, activation='sigmoid')])"
   ]
  },
  {
   "cell_type": "code",
   "execution_count": 6,
   "metadata": {
    "collapsed": true
   },
   "outputs": [],
   "source": [
    "model.compile(optimizer=Adam(0.01), loss='binary_crossentropy', metrics=['accuracy'])"
   ]
  },
  {
   "cell_type": "code",
   "execution_count": 7,
   "metadata": {},
   "outputs": [
    {
     "name": "stdout",
     "output_type": "stream",
     "text": [
      "Train on 476493 samples, validate on 118719 samples\n",
      "Epoch 1/8\n",
      "476493/476493 [==============================] - 15s 32us/step - loss: 0.1605 - acc: 0.9623 - val_loss: 0.1552 - val_acc: 0.9630\n",
      "Epoch 2/8\n",
      "476493/476493 [==============================] - 15s 31us/step - loss: 0.1541 - acc: 0.9637 - val_loss: 0.1561 - val_acc: 0.9630\n",
      "Epoch 3/8\n",
      "476493/476493 [==============================] - 14s 30us/step - loss: 0.1538 - acc: 0.9637 - val_loss: 0.1579 - val_acc: 0.9629\n",
      "Epoch 4/8\n",
      "476493/476493 [==============================] - 15s 30us/step - loss: 0.1538 - acc: 0.9637 - val_loss: 0.1561 - val_acc: 0.9630\n",
      "Epoch 5/8\n",
      "476493/476493 [==============================] - 14s 30us/step - loss: 0.1537 - acc: 0.9637 - val_loss: 0.1556 - val_acc: 0.9630\n",
      "Epoch 6/8\n",
      "476493/476493 [==============================] - 14s 30us/step - loss: 0.1537 - acc: 0.9637 - val_loss: 0.1559 - val_acc: 0.9630\n",
      "Epoch 7/8\n",
      "476493/476493 [==============================] - 14s 30us/step - loss: 0.1537 - acc: 0.9637 - val_loss: 0.1650 - val_acc: 0.9623\n",
      "Epoch 8/8\n",
      "476493/476493 [==============================] - 14s 30us/step - loss: 0.1536 - acc: 0.9637 - val_loss: 0.1574 - val_acc: 0.9629\n"
     ]
    },
    {
     "data": {
      "text/plain": [
       "<keras.callbacks.History at 0x7f79e0609e80>"
      ]
     },
     "execution_count": 7,
     "metadata": {},
     "output_type": "execute_result"
    }
   ],
   "source": [
    "model.fit(train_ft,train_targets, epochs=8, validation_data=(valid_ft,valid_targets), batch_size=128)"
   ]
  },
  {
   "cell_type": "code",
   "execution_count": 8,
   "metadata": {},
   "outputs": [
    {
     "data": {
      "text/plain": [
       "0.25759807988956629"
      ]
     },
     "execution_count": 8,
     "metadata": {},
     "output_type": "execute_result"
    }
   ],
   "source": [
    "gini_model(model, valid_ft, valid_targets)"
   ]
  },
  {
   "cell_type": "code",
   "execution_count": 9,
   "metadata": {},
   "outputs": [],
   "source": [
    "if not os.path.exists('models'): os.mkdir('models')\n",
    "model.save_weights('models/batch_norm-dropout-2_hid_layers_256_1.h5')"
   ]
  },
  {
   "cell_type": "code",
   "execution_count": 10,
   "metadata": {},
   "outputs": [
    {
     "data": {
      "text/html": [
       "<a href='submissions/post_submission_1.csv' target='_blank'>submissions/post_submission_1.csv</a><br>"
      ],
      "text/plain": [
       "/media/benjamin/Baul/Proyectos/ml_experiments/portoseguro/submissions/post_submission_1.csv"
      ]
     },
     "execution_count": 10,
     "metadata": {},
     "output_type": "execute_result"
    }
   ],
   "source": [
    "if not os.path.exists('submissions'): os.mkdir('submissions')\n",
    "sub_file = 'submissions/post_submission_1.csv'\n",
    "pred_df = create_submission(sub_file, model)\n",
    "FileLink(sub_file)"
   ]
  }
 ],
 "metadata": {
  "kernelspec": {
   "display_name": "Python [conda env:tensorflow]",
   "language": "python",
   "name": "conda-env-tensorflow-py"
  },
  "language_info": {
   "codemirror_mode": {
    "name": "ipython",
    "version": 3
   },
   "file_extension": ".py",
   "mimetype": "text/x-python",
   "name": "python",
   "nbconvert_exporter": "python",
   "pygments_lexer": "ipython3",
   "version": "3.6.3"
  },
  "toc": {
   "nav_menu": {},
   "number_sections": true,
   "sideBar": true,
   "skip_h1_title": true,
   "toc_cell": false,
   "toc_position": {},
   "toc_section_display": "block",
   "toc_window_display": false
  }
 },
 "nbformat": 4,
 "nbformat_minor": 2
}
